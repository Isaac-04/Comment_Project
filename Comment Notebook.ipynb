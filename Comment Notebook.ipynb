{
 "cells": [
  {
   "cell_type": "code",
   "execution_count": 1,
   "metadata": {
    "collapsed": false
   },
   "outputs": [
   ],
   "source": [
    "import csv\n",
    "#main\n",
    "positives = {'work ethic': 'You have stellar work ethic and student habits.' , 'completion' : 'You faithfully complete the nightly homework and are fully engaged in class discussion.', 'questions' : 'You are comfortable asking questions during the larger class discussion and also work well in small groups with your peers.', 'problem_solving' : 'when you have trouble on a new concept, you stops by my office outside of class and know exactly what to ask in order to clear up your misunderstanding.', 'test taking' : 'You have received A’s on all tests, including a high A on your cumulative final exam.' , 'attendance' : 'You always show up on time and are prepared and ready to work at the start of class.' , 'participation': 'You are comfortable participating in class discussions and always contribute good and interesting ideas.', 'nothing': 'You have not shown any interest in class and do not make an effort to understand.'}\n",
    "\n",
    "negatives = {'tardy' : ' I would encourage you to show up on time as you tend to show up late to class and are unprepared.', 'test taking' : ' you have a bit more difficulty on in-class exams, receiving a low grade on each most tests and our cumulative final exam. I would encourage you to come see me for a bit of extra practice before in-class exams. I can help you to figure out which problems you have and which problems you need to practice more. We should practice improving your performance on these so that you can do well on the AP examination in May.' , 'participation' : ' you do not often participate in class and are frequently unprepared. Please meet with me and we can go over some strategies to improve upon this.', 'attendance': ' you have missed most of our classes and when you are present, you do not participate in group discussions.', 'sleeping': ' you frequently sleep in class and miss out on most topics covered, explaining your lack of understanding and sub-par performance on the tests.', 'distractions': ' you are always doing something else in class and I have to ask you repeatedly to put the distraction away. A solution to this problem is to leave your backpack at my desk unless you need something from it so that there are no distractions near you.'}\n",
    "\n",
    "course_descriptions = {'AP AB Calculus': 'This semester in AP AB Calculus, we covered the topics of limits, continuity, and differentiation and began the study of integration, which we will continue into the second semester. In addition to daily homework and frequent quizzes, we had three in-class unit tests, a cumulative final exam, and two projects, one on predicting stock prices using derivatives and one on modeling fluid flow using related rates and Torricelli’s Law.'}\n",
    "\n",
    "def comment_writer(file):\n",
    "    with open(file) as csvfile:\n",
    "        file = csv.reader(csvfile, delimiter = \",\")\n",
    "        # Skips the first line\n",
    "        next(file)\n",
    "        for line in file:\n",
    "            # Finds the article to use dependant on the grade\n",
    "            article = articles(line[3])\n",
    "            # Concluding sentences using the article for every person. Also, there is a good and a bad concluding sentence, the value held at the index[0] \n",
    "            # is good and the value held at index[1] is bad\n",
    "            concluding_sentences = {'AP AB Calculus': [f'The jump in difficulty level from precalculus to AP Calculus is significant, and you have excelled with this increased challenge. You have earned {article} {line[3]} for the semester and I look forward to your continued success during the remainder of the year.', f'The jump in difficulty level from precalculus to AP Calculus is significant, and you have struggled with this increased challenge. You have earned {article} {line[3]} for the semester.']}\n",
    "            # Opens the file and sets the mode to write\n",
    "            with open(f'{line[0]} Comments.txt', 'w') as file:\n",
    "                # Prints the course description for everyone\n",
    "                for key,value in course_descriptions.items():\n",
    "                    if key in line[2]:\n",
    "                        file.write(f'{value} \\n\\n')\n",
    "\n",
    "                # Prints every student's positive atributes\n",
    "                for key,value in positives.items():\n",
    "                    if key in line[4].lower().strip():\n",
    "                        file.write(value)\n",
    "\n",
    "                # Prints every student's positive atributes and if the student had no positive atributes, instead of saying however it says additionally\n",
    "                for key,value in negatives.items():\n",
    "                    if key in line[5].lower():\n",
    "                        if line[3] != \"F\":\n",
    "                            file.write(' However,')\n",
    "                        else:\n",
    "                            file.write(' Additionally,')\n",
    "                        file.write(value)\n",
    "                        file.write('\\n\\n')\n",
    "\n",
    "                # Writes the project excerpt on the file, every student has their own.\n",
    "                file.write(f\"{line[6]}\\n\\n\")\n",
    "\n",
    "                # Prints the concluding sentence and if the student has an F or a D, another sentence is added\n",
    "                for key,value in concluding_sentences.items():\n",
    "                    if key in line[2] and line[3] != \"F\" and line[3] != \"D\":\n",
    "                        file.write(value[0])\n",
    "                    if line[3] == \"F\":\n",
    "                        file.write(f\"{value[1]} If you do not improve on your in-class and homework, you will fail this class, so please put in an effort to learn and come talk to me if needed.\")\n",
    "                    if line[3] == \"D\":\n",
    "                        file.write(f\"{value[1]} It is apparent that you are struggling with this class so please come and talk with me so that we can make a plan and figure out how to improve this grade.\")\n",
    "\n",
    "\n",
    "# Depending on the student's grade a different article is used.\n",
    "def articles(grade):\n",
    "    return \"an\" if (grade == \"A\" or grade == \"F\") else \"a\"\n",
    "\n",
    "# Calls the main function using the csv file as a parameter\n",
    "comment_writer(\"teachercommentwriter.csv\")"
   ]
  }
 ],
 "metadata": {
  "kernelspec": {
   "display_name": "Python 3 (system-wide)",
   "language": "python",
   "metadata": {
    "cocalc": {
     "description": "Python 3 programming language",
     "priority": 100,
     "url": "https://www.python.org/"
    }
   },
   "name": "python3",
   "resource_dir": "/ext/jupyter/kernels/python3"
  },
  "language_info": {
   "codemirror_mode": {
    "name": "ipython",
    "version": 3
   },
   "file_extension": ".py",
   "mimetype": "text/x-python",
   "name": "python",
   "nbconvert_exporter": "python",
   "pygments_lexer": "ipython3",
   "version": "3.8.10"
  }
 },
 "nbformat": 4,
 "nbformat_minor": 4
}